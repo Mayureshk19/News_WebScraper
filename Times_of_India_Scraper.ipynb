{
 "cells": [
  {
   "cell_type": "code",
   "execution_count": 1,
   "metadata": {},
   "outputs": [],
   "source": [
    "import requests\n",
    "from bs4 import BeautifulSoup"
   ]
  },
  {
   "cell_type": "code",
   "execution_count": 2,
   "metadata": {},
   "outputs": [],
   "source": [
    "def timesofindia():\n",
    "    url = \"https://timesofindia.indiatimes.com/home/headlines\"\n",
    "    page_request = requests.get(url)\n",
    "    data = page_request.content\n",
    "    soup = BeautifulSoup(data,\"html.parser\")\n",
    "\n",
    "    counter = 0\n",
    "    for divtag in soup.find_all('div', {'class': 'headlines-list'}):\n",
    "        for ultag in divtag.find_all('ul', {'class': 'clearfix'}):\n",
    "            if (counter <= 10):\n",
    "                for litag in ultag.find_all('li'):\n",
    "                    counter = counter + 1\n",
    "                    print(str(counter) + \" - https://timesofindia.indiatimes.com\" + litag.find('a')['href'])\n",
    "                    #print(str(counter) + \".\" + litag.text + \" - https://timesofindia.indiatimes.com\" + litag.find('a')['href'])\n"
   ]
  },
  {
   "cell_type": "code",
   "execution_count": 3,
   "metadata": {},
   "outputs": [
    {
     "name": "stdout",
     "output_type": "stream",
     "text": [
      "1 - https://timesofindia.indiatimes.com/india/coronavirus-up-govt-provides-aid-for-stranded-labourers/articleshow/74860251.cms\n",
      "2 - https://timesofindia.indiatimes.com/india/railways-manufactures-prototype-of-isolation-ward-in-non-ac-coaches/articleshow/74859556.cms\n",
      "3 - https://timesofindia.indiatimes.com/india/you-touch-your-face-23-times-an-hour/articleshow/74859480.cms\n",
      "4 - https://timesofindia.indiatimes.com/city/chennai/coronas-lover-test-waiting-for-lockdown-violators-in-kanyakumari/articleshow/74859607.cms\n",
      "5 - https://timesofindia.indiatimes.com/india/day-4-of-lockdown-ground-reports-from-cities/articleshow/74858536.cms\n",
      "6 - https://timesofindia.indiatimes.comhttps://www.gadgetsnow.com/tech-news/heres-how-government-wants-you-to-help-in-coronavirus-fight/articleshow/74859543.cms\n",
      "7 - https://timesofindia.indiatimes.com/sports/cricket/news/dhonis-india-ambitions-might-be-over-harsha-bhogle/articleshow/74860124.cms\n",
      "8 - https://timesofindia.indiatimes.com/india/indias-1st-corona-images-show-its-round-with-cobbled-surface/articleshow/74856081.cms\n",
      "9 - https://timesofindia.indiatimes.com/sports/cricket/news/ongoing-break-a-welcome-rest-for-india-players-ravi-shastri/articleshow/74858475.cms\n",
      "10 - https://timesofindia.indiatimes.com/business/india-business/no-pain-shame-if-you-miss-emis-till-may-31/articleshow/74855633.cms\n",
      "11 - https://timesofindia.indiatimes.com/business/india-business/im-smart-work-hard-but-not-rewarded-what-should-i-do/articleshow/74826421.cms\n",
      "12 - https://timesofindia.indiatimes.com/india/many-states-many-kinds-of-passes-what-works/articleshow/74855952.cms\n"
     ]
    }
   ],
   "source": [
    "if __name__ == \"__main__\":\n",
    "    timesofindia()"
   ]
  },
  {
   "cell_type": "code",
   "execution_count": null,
   "metadata": {},
   "outputs": [],
   "source": []
  }
 ],
 "metadata": {
  "kernelspec": {
   "display_name": "Python 3",
   "language": "python",
   "name": "python3"
  },
  "language_info": {
   "codemirror_mode": {
    "name": "ipython",
    "version": 3
   },
   "file_extension": ".py",
   "mimetype": "text/x-python",
   "name": "python",
   "nbconvert_exporter": "python",
   "pygments_lexer": "ipython3",
   "version": "3.7.3"
  }
 },
 "nbformat": 4,
 "nbformat_minor": 2
}
